{
 "cells": [
  {
   "cell_type": "code",
   "execution_count": 12,
   "id": "e19d9687",
   "metadata": {},
   "outputs": [],
   "source": [
    "import numpy as np\n",
    "import matplotlib.pyplot as plt\n",
    "\n",
    "from scipy import sparse\n",
    "from scipy.sparse.linalg import spsolve\n",
    "from matplotlib.ticker import LinearLocator, FormatStrFormatter\n",
    "from matplotlib import cm"
   ]
  },
  {
   "cell_type": "code",
   "execution_count": 30,
   "id": "72e0dad3",
   "metadata": {},
   "outputs": [],
   "source": [
    "def jacobi_2nd(A, b, tolerance=1e-10, max_iterations=1000):\n",
    "\n",
    "    x = np.zeros_like(b, dtype=np.double)\n",
    "    \n",
    "    T = (A - sparse.diags(A.diagonal()))/ 4\n",
    "    \n",
    "    for k in range(max_iterations):\n",
    "        \n",
    "        x_old  = x.copy()\n",
    "        \n",
    "        x[:] = (b - T.dot(x)) / 4\n",
    "        \n",
    "#         diff = np.linalg.norm(x - x_old, ord=np.inf) / np.linalg.norm(x, ord=np.inf) \n",
    "        diff = np.linalg.norm(x - x_old, ord=np.inf)\n",
    "\n",
    "        print(f'{diff:.3e}')\n",
    "        if diff < tolerance:\n",
    "            break\n",
    "    return x"
   ]
  },
  {
   "cell_type": "code",
   "execution_count": 16,
   "id": "3c815fe0",
   "metadata": {},
   "outputs": [],
   "source": [
    "A = sparse.load_npz('./data/normal35/A2nd.npz').tocsr()\n",
    "B = np.load('./data/normal35/ValB2nd.npy')"
   ]
  },
  {
   "cell_type": "code",
   "execution_count": 28,
   "id": "d38551ed",
   "metadata": {},
   "outputs": [
    {
     "name": "stdout",
     "output_type": "stream",
     "text": [
      "(1089, 1089)\n",
      "(1089,)\n"
     ]
    }
   ],
   "source": [
    "b = B[0]\n",
    "print(A.shape)\n",
    "print(b.shape)\n",
    "u = spsolve(A, b)"
   ]
  },
  {
   "cell_type": "code",
   "execution_count": 31,
   "id": "ccd52c37",
   "metadata": {},
   "outputs": [
    {
     "name": "stdout",
     "output_type": "stream",
     "text": [
      "2.500e-01\n",
      "1.568e-02\n",
      "3.921e-03\n",
      "5.521e-04\n",
      "1.380e-04\n",
      "2.398e-05\n",
      "5.994e-06\n",
      "1.148e-06\n",
      "2.869e-07\n",
      "5.812e-08\n",
      "1.453e-08\n",
      "3.053e-09\n",
      "7.632e-10\n",
      "1.645e-10\n",
      "4.113e-11\n"
     ]
    },
    {
     "data": {
      "text/plain": [
       "array([1.11751968e-235, 3.26767363e-212, 2.39390757e-189, ...,\n",
       "       2.39390757e-189, 3.26767363e-212, 1.11751968e-235])"
      ]
     },
     "execution_count": 31,
     "metadata": {},
     "output_type": "execute_result"
    }
   ],
   "source": [
    "jacobi_2nd(A, b)"
   ]
  },
  {
   "cell_type": "code",
   "execution_count": null,
   "id": "9c367f0b",
   "metadata": {},
   "outputs": [],
   "source": []
  },
  {
   "cell_type": "code",
   "execution_count": null,
   "id": "e4dfd46c",
   "metadata": {},
   "outputs": [],
   "source": []
  },
  {
   "cell_type": "code",
   "execution_count": null,
   "id": "dacff3d4",
   "metadata": {},
   "outputs": [],
   "source": []
  }
 ],
 "metadata": {
  "kernelspec": {
   "display_name": "Python 3 (ipykernel)",
   "language": "python",
   "name": "python3"
  },
  "language_info": {
   "codemirror_mode": {
    "name": "ipython",
    "version": 3
   },
   "file_extension": ".py",
   "mimetype": "text/x-python",
   "name": "python",
   "nbconvert_exporter": "python",
   "pygments_lexer": "ipython3",
   "version": "3.9.13"
  }
 },
 "nbformat": 4,
 "nbformat_minor": 5
}
